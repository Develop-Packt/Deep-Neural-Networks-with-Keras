{
 "cells": [
  {
   "cell_type": "markdown",
   "metadata": {},
   "source": [
    "# Activity 02\n"
   ]
  },
  {
   "cell_type": "code",
   "execution_count": 1,
   "metadata": {},
   "outputs": [
    {
     "name": "stderr",
     "output_type": "stream",
     "text": [
      "Using TensorFlow backend.\n"
     ]
    }
   ],
   "source": [
    "import pandas as pd\n",
    "import numpy as np\n",
    "from sklearn.model_selection import train_test_split\n",
    "from sklearn.preprocessing import StandardScaler\n",
    "from keras.models import Sequential\n",
    "from keras.layers import Dense\n",
    "from tensorflow import random"
   ]
  },
  {
   "cell_type": "code",
   "execution_count": 2,
   "metadata": {},
   "outputs": [],
   "source": [
    "import matplotlib.pyplot as plt \n",
    "import matplotlib\n",
    "%matplotlib inline "
   ]
  },
  {
   "cell_type": "code",
   "execution_count": 3,
   "metadata": {},
   "outputs": [
    {
     "name": "stdout",
     "output_type": "stream",
     "text": [
      "Number of Examples in the Dataset =  1385\n",
      "Number of Features for each example =  28\n",
      "Possible Output Classes =  [0 1]\n"
     ]
    }
   ],
   "source": [
    "# Load The dataset\n",
    "X = pd.read_csv('../data/HCV_feats.csv')\n",
    "y = pd.read_csv('../data/HCV_target.csv')\n",
    "\n",
    "# Print the sizes of the dataset\n",
    "print(\"Number of Examples in the Dataset = \", X.shape[0])\n",
    "print(\"Number of Features for each example = \", X.shape[1]) \n",
    "print(\"Possible Output Classes = \", y['AdvancedFibrosis'].unique())"
   ]
  },
  {
   "cell_type": "markdown",
   "metadata": {},
   "source": [
    "Set up a seed for random number generator so the result will be reproducible\n",
    "\n",
    "Split the dataset into training set and test set with a 80-20 ratio"
   ]
  },
  {
   "cell_type": "code",
   "execution_count": 4,
   "metadata": {},
   "outputs": [
    {
     "name": "stdout",
     "output_type": "stream",
     "text": [
      "(1108, 28)\n",
      "(1108, 1)\n",
      "(277, 28)\n",
      "(277, 1)\n",
      "Number of examples in training set =  1108\n",
      "Number of examples in test set =  277\n"
     ]
    }
   ],
   "source": [
    "seed = 1\n",
    "np.random.seed(seed)\n",
    "random.set_seed(seed)\n",
    "sc = StandardScaler()\n",
    "X = pd.DataFrame(sc.fit_transform(X), columns=X.columns)\n",
    "X_train, X_test, y_train, y_test = train_test_split(X, y, test_size=0.2, random_state=seed)\n",
    "\n",
    "# Print the information regarding dataset sizes\n",
    "print(X_train.shape)\n",
    "print(y_train.shape)\n",
    "print(X_test.shape)\n",
    "print(y_test.shape)\n",
    "print (\"Number of examples in training set = \", X_train.shape[0])\n",
    "print (\"Number of examples in test set = \", X_test.shape[0])"
   ]
  },
  {
   "cell_type": "code",
   "execution_count": 5,
   "metadata": {},
   "outputs": [
    {
     "name": "stdout",
     "output_type": "stream",
     "text": [
      "Model: \"sequential_1\"\n",
      "_________________________________________________________________\n",
      "Layer (type)                 Output Shape              Param #   \n",
      "=================================================================\n",
      "dense_1 (Dense)              (None, 3)                 87        \n",
      "_________________________________________________________________\n",
      "dense_2 (Dense)              (None, 1)                 4         \n",
      "=================================================================\n",
      "Total params: 91\n",
      "Trainable params: 91\n",
      "Non-trainable params: 0\n",
      "_________________________________________________________________\n"
     ]
    }
   ],
   "source": [
    "np.random.seed(seed)\n",
    "random.set_seed(seed)\n",
    "# define the keras model\n",
    "classifier = Sequential()\n",
    "classifier.add(Dense(units = 3, activation = 'tanh', input_dim=X_train.shape[1]))\n",
    "classifier.add(Dense(units = 1, activation = 'sigmoid'))\n",
    "classifier.compile(optimizer = 'sgd', loss = 'binary_crossentropy', metrics = ['accuracy'])\n",
    "\n",
    "classifier.summary()"
   ]
  },
  {
   "cell_type": "code",
   "execution_count": 6,
   "metadata": {},
   "outputs": [
    {
     "name": "stdout",
     "output_type": "stream",
     "text": [
      "Train on 997 samples, validate on 111 samples\n",
      "Epoch 1/100\n",
      "997/997 [==============================] - 0s 179us/step - loss: 0.7972 - accuracy: 0.4714 - val_loss: 0.7460 - val_accuracy: 0.5676\n",
      "Epoch 2/100\n",
      "997/997 [==============================] - 0s 56us/step - loss: 0.7795 - accuracy: 0.4764 - val_loss: 0.7343 - val_accuracy: 0.5676\n",
      "Epoch 3/100\n",
      "997/997 [==============================] - 0s 56us/step - loss: 0.7653 - accuracy: 0.4794 - val_loss: 0.7248 - val_accuracy: 0.5676\n",
      "Epoch 4/100\n",
      "997/997 [==============================] - 0s 64us/step - loss: 0.7536 - accuracy: 0.4875 - val_loss: 0.7169 - val_accuracy: 0.5766\n",
      "Epoch 5/100\n",
      "997/997 [==============================] - 0s 62us/step - loss: 0.7441 - accuracy: 0.4945 - val_loss: 0.7104 - val_accuracy: 0.5766\n",
      "Epoch 6/100\n",
      "997/997 [==============================] - 0s 54us/step - loss: 0.7363 - accuracy: 0.5035 - val_loss: 0.7050 - val_accuracy: 0.5676\n",
      "Epoch 7/100\n",
      "997/997 [==============================] - 0s 55us/step - loss: 0.7297 - accuracy: 0.5075 - val_loss: 0.7005 - val_accuracy: 0.5586\n",
      "Epoch 8/100\n",
      "997/997 [==============================] - 0s 54us/step - loss: 0.7243 - accuracy: 0.5115 - val_loss: 0.6967 - val_accuracy: 0.5586\n",
      "Epoch 9/100\n",
      "997/997 [==============================] - 0s 51us/step - loss: 0.7197 - accuracy: 0.5206 - val_loss: 0.6935 - val_accuracy: 0.5495\n",
      "Epoch 10/100\n",
      "997/997 [==============================] - 0s 50us/step - loss: 0.7158 - accuracy: 0.5236 - val_loss: 0.6908 - val_accuracy: 0.5495\n",
      "Epoch 11/100\n",
      "997/997 [==============================] - 0s 61us/step - loss: 0.7125 - accuracy: 0.5256 - val_loss: 0.6886 - val_accuracy: 0.5766\n",
      "Epoch 12/100\n",
      "997/997 [==============================] - 0s 52us/step - loss: 0.7097 - accuracy: 0.5266 - val_loss: 0.6866 - val_accuracy: 0.5766\n",
      "Epoch 13/100\n",
      "997/997 [==============================] - 0s 48us/step - loss: 0.7072 - accuracy: 0.5246 - val_loss: 0.6849 - val_accuracy: 0.5766\n",
      "Epoch 14/100\n",
      "997/997 [==============================] - 0s 49us/step - loss: 0.7051 - accuracy: 0.5276 - val_loss: 0.6835 - val_accuracy: 0.5766\n",
      "Epoch 15/100\n",
      "997/997 [==============================] - 0s 50us/step - loss: 0.7032 - accuracy: 0.5216 - val_loss: 0.6823 - val_accuracy: 0.5766\n",
      "Epoch 16/100\n",
      "997/997 [==============================] - 0s 50us/step - loss: 0.7016 - accuracy: 0.5236 - val_loss: 0.6812 - val_accuracy: 0.5766\n",
      "Epoch 17/100\n",
      "997/997 [==============================] - 0s 52us/step - loss: 0.7002 - accuracy: 0.5236 - val_loss: 0.6803 - val_accuracy: 0.5766\n",
      "Epoch 18/100\n",
      "997/997 [==============================] - 0s 50us/step - loss: 0.6990 - accuracy: 0.5236 - val_loss: 0.6795 - val_accuracy: 0.5676\n",
      "Epoch 19/100\n",
      "997/997 [==============================] - 0s 52us/step - loss: 0.6979 - accuracy: 0.5246 - val_loss: 0.6788 - val_accuracy: 0.5676\n",
      "Epoch 20/100\n",
      "997/997 [==============================] - 0s 53us/step - loss: 0.6969 - accuracy: 0.5266 - val_loss: 0.6782 - val_accuracy: 0.5766\n",
      "Epoch 21/100\n",
      "997/997 [==============================] - 0s 51us/step - loss: 0.6960 - accuracy: 0.5266 - val_loss: 0.6777 - val_accuracy: 0.5856\n",
      "Epoch 22/100\n",
      "997/997 [==============================] - 0s 64us/step - loss: 0.6952 - accuracy: 0.5256 - val_loss: 0.6772 - val_accuracy: 0.5856\n",
      "Epoch 23/100\n",
      "997/997 [==============================] - 0s 55us/step - loss: 0.6945 - accuracy: 0.5266 - val_loss: 0.6768 - val_accuracy: 0.5766\n",
      "Epoch 24/100\n",
      "997/997 [==============================] - 0s 55us/step - loss: 0.6938 - accuracy: 0.5266 - val_loss: 0.6765 - val_accuracy: 0.5766\n",
      "Epoch 25/100\n",
      "997/997 [==============================] - 0s 52us/step - loss: 0.6932 - accuracy: 0.5256 - val_loss: 0.6762 - val_accuracy: 0.5766\n",
      "Epoch 26/100\n",
      "997/997 [==============================] - 0s 57us/step - loss: 0.6927 - accuracy: 0.5256 - val_loss: 0.6759 - val_accuracy: 0.5856\n",
      "Epoch 27/100\n",
      "997/997 [==============================] - 0s 50us/step - loss: 0.6922 - accuracy: 0.5276 - val_loss: 0.6756 - val_accuracy: 0.5856\n",
      "Epoch 28/100\n",
      "997/997 [==============================] - 0s 50us/step - loss: 0.6918 - accuracy: 0.5306 - val_loss: 0.6754 - val_accuracy: 0.5856\n",
      "Epoch 29/100\n",
      "997/997 [==============================] - 0s 50us/step - loss: 0.6913 - accuracy: 0.5316 - val_loss: 0.6752 - val_accuracy: 0.5856\n",
      "Epoch 30/100\n",
      "997/997 [==============================] - 0s 52us/step - loss: 0.6910 - accuracy: 0.5306 - val_loss: 0.6750 - val_accuracy: 0.5856\n",
      "Epoch 31/100\n",
      "997/997 [==============================] - 0s 52us/step - loss: 0.6906 - accuracy: 0.5296 - val_loss: 0.6749 - val_accuracy: 0.5856\n",
      "Epoch 32/100\n",
      "997/997 [==============================] - 0s 53us/step - loss: 0.6903 - accuracy: 0.5326 - val_loss: 0.6747 - val_accuracy: 0.5856\n",
      "Epoch 33/100\n",
      "997/997 [==============================] - 0s 60us/step - loss: 0.6899 - accuracy: 0.5336 - val_loss: 0.6746 - val_accuracy: 0.5946\n",
      "Epoch 34/100\n",
      "997/997 [==============================] - 0s 55us/step - loss: 0.6896 - accuracy: 0.5386 - val_loss: 0.6745 - val_accuracy: 0.5946\n",
      "Epoch 35/100\n",
      "997/997 [==============================] - 0s 52us/step - loss: 0.6894 - accuracy: 0.5396 - val_loss: 0.6744 - val_accuracy: 0.6036\n",
      "Epoch 36/100\n",
      "997/997 [==============================] - 0s 64us/step - loss: 0.6891 - accuracy: 0.5406 - val_loss: 0.6743 - val_accuracy: 0.6126\n",
      "Epoch 37/100\n",
      "997/997 [==============================] - 0s 52us/step - loss: 0.6889 - accuracy: 0.5426 - val_loss: 0.6742 - val_accuracy: 0.6036\n",
      "Epoch 38/100\n",
      "997/997 [==============================] - 0s 50us/step - loss: 0.6886 - accuracy: 0.5426 - val_loss: 0.6741 - val_accuracy: 0.6036\n",
      "Epoch 39/100\n",
      "997/997 [==============================] - 0s 61us/step - loss: 0.6884 - accuracy: 0.5436 - val_loss: 0.6740 - val_accuracy: 0.6036\n",
      "Epoch 40/100\n",
      "997/997 [==============================] - 0s 55us/step - loss: 0.6882 - accuracy: 0.5486 - val_loss: 0.6739 - val_accuracy: 0.6036\n",
      "Epoch 41/100\n",
      "997/997 [==============================] - 0s 55us/step - loss: 0.6879 - accuracy: 0.5507 - val_loss: 0.6738 - val_accuracy: 0.6036\n",
      "Epoch 42/100\n",
      "997/997 [==============================] - 0s 48us/step - loss: 0.6877 - accuracy: 0.5527 - val_loss: 0.6738 - val_accuracy: 0.6036\n",
      "Epoch 43/100\n",
      "997/997 [==============================] - 0s 49us/step - loss: 0.6875 - accuracy: 0.5527 - val_loss: 0.6737 - val_accuracy: 0.5946\n",
      "Epoch 44/100\n",
      "997/997 [==============================] - 0s 49us/step - loss: 0.6873 - accuracy: 0.5527 - val_loss: 0.6736 - val_accuracy: 0.6036\n",
      "Epoch 45/100\n",
      "997/997 [==============================] - 0s 49us/step - loss: 0.6871 - accuracy: 0.5537 - val_loss: 0.6736 - val_accuracy: 0.6126\n",
      "Epoch 46/100\n",
      "997/997 [==============================] - 0s 49us/step - loss: 0.6870 - accuracy: 0.5547 - val_loss: 0.6735 - val_accuracy: 0.6036\n",
      "Epoch 47/100\n",
      "997/997 [==============================] - 0s 48us/step - loss: 0.6868 - accuracy: 0.5547 - val_loss: 0.6734 - val_accuracy: 0.6036\n",
      "Epoch 48/100\n",
      "997/997 [==============================] - 0s 50us/step - loss: 0.6866 - accuracy: 0.5537 - val_loss: 0.6734 - val_accuracy: 0.6036\n",
      "Epoch 49/100\n",
      "997/997 [==============================] - 0s 51us/step - loss: 0.6864 - accuracy: 0.5567 - val_loss: 0.6733 - val_accuracy: 0.6036\n",
      "Epoch 50/100\n",
      "997/997 [==============================] - 0s 53us/step - loss: 0.6862 - accuracy: 0.5597 - val_loss: 0.6733 - val_accuracy: 0.6036\n",
      "Epoch 51/100\n",
      "997/997 [==============================] - 0s 47us/step - loss: 0.6861 - accuracy: 0.5627 - val_loss: 0.6732 - val_accuracy: 0.6036\n",
      "Epoch 52/100\n",
      "997/997 [==============================] - 0s 49us/step - loss: 0.6859 - accuracy: 0.5617 - val_loss: 0.6732 - val_accuracy: 0.6036\n",
      "Epoch 53/100\n",
      "997/997 [==============================] - 0s 49us/step - loss: 0.6857 - accuracy: 0.5617 - val_loss: 0.6731 - val_accuracy: 0.6036\n",
      "Epoch 54/100\n",
      "997/997 [==============================] - 0s 49us/step - loss: 0.6855 - accuracy: 0.5617 - val_loss: 0.6731 - val_accuracy: 0.6036\n",
      "Epoch 55/100\n",
      "997/997 [==============================] - 0s 48us/step - loss: 0.6854 - accuracy: 0.5617 - val_loss: 0.6730 - val_accuracy: 0.6036\n",
      "Epoch 56/100\n",
      "997/997 [==============================] - 0s 51us/step - loss: 0.6852 - accuracy: 0.5627 - val_loss: 0.6730 - val_accuracy: 0.5946\n",
      "Epoch 57/100\n",
      "997/997 [==============================] - 0s 49us/step - loss: 0.6850 - accuracy: 0.5637 - val_loss: 0.6729 - val_accuracy: 0.5946\n",
      "Epoch 58/100\n",
      "997/997 [==============================] - 0s 48us/step - loss: 0.6849 - accuracy: 0.5607 - val_loss: 0.6729 - val_accuracy: 0.5946\n",
      "Epoch 59/100\n",
      "997/997 [==============================] - 0s 48us/step - loss: 0.6847 - accuracy: 0.5627 - val_loss: 0.6728 - val_accuracy: 0.5946\n",
      "Epoch 60/100\n",
      "997/997 [==============================] - 0s 49us/step - loss: 0.6845 - accuracy: 0.5607 - val_loss: 0.6728 - val_accuracy: 0.5946\n",
      "Epoch 61/100\n",
      "997/997 [==============================] - 0s 50us/step - loss: 0.6844 - accuracy: 0.5597 - val_loss: 0.6728 - val_accuracy: 0.5946\n",
      "Epoch 62/100\n",
      "997/997 [==============================] - 0s 46us/step - loss: 0.6842 - accuracy: 0.5607 - val_loss: 0.6727 - val_accuracy: 0.5946\n",
      "Epoch 63/100\n",
      "997/997 [==============================] - 0s 46us/step - loss: 0.6840 - accuracy: 0.5617 - val_loss: 0.6727 - val_accuracy: 0.5946\n",
      "Epoch 64/100\n",
      "997/997 [==============================] - 0s 51us/step - loss: 0.6839 - accuracy: 0.5607 - val_loss: 0.6726 - val_accuracy: 0.5946\n",
      "Epoch 65/100\n",
      "997/997 [==============================] - 0s 44us/step - loss: 0.6837 - accuracy: 0.5597 - val_loss: 0.6726 - val_accuracy: 0.5946\n",
      "Epoch 66/100\n",
      "997/997 [==============================] - 0s 47us/step - loss: 0.6835 - accuracy: 0.5607 - val_loss: 0.6726 - val_accuracy: 0.5946\n",
      "Epoch 67/100\n",
      "997/997 [==============================] - 0s 49us/step - loss: 0.6834 - accuracy: 0.5617 - val_loss: 0.6725 - val_accuracy: 0.5946\n",
      "Epoch 68/100\n",
      "997/997 [==============================] - 0s 50us/step - loss: 0.6832 - accuracy: 0.5617 - val_loss: 0.6725 - val_accuracy: 0.5946\n",
      "Epoch 69/100\n",
      "997/997 [==============================] - 0s 49us/step - loss: 0.6830 - accuracy: 0.5607 - val_loss: 0.6725 - val_accuracy: 0.5856\n",
      "Epoch 70/100\n",
      "997/997 [==============================] - 0s 50us/step - loss: 0.6829 - accuracy: 0.5597 - val_loss: 0.6724 - val_accuracy: 0.5856\n",
      "Epoch 71/100\n",
      "997/997 [==============================] - 0s 48us/step - loss: 0.6827 - accuracy: 0.5607 - val_loss: 0.6724 - val_accuracy: 0.5856\n",
      "Epoch 72/100\n",
      "997/997 [==============================] - 0s 53us/step - loss: 0.6825 - accuracy: 0.5607 - val_loss: 0.6724 - val_accuracy: 0.5856\n",
      "Epoch 73/100\n",
      "997/997 [==============================] - 0s 50us/step - loss: 0.6823 - accuracy: 0.5617 - val_loss: 0.6724 - val_accuracy: 0.5856\n",
      "Epoch 74/100\n",
      "997/997 [==============================] - 0s 52us/step - loss: 0.6822 - accuracy: 0.5617 - val_loss: 0.6724 - val_accuracy: 0.5856\n",
      "Epoch 75/100\n",
      "997/997 [==============================] - 0s 51us/step - loss: 0.6820 - accuracy: 0.5627 - val_loss: 0.6723 - val_accuracy: 0.5856\n",
      "Epoch 76/100\n",
      "997/997 [==============================] - 0s 49us/step - loss: 0.6818 - accuracy: 0.5637 - val_loss: 0.6723 - val_accuracy: 0.5856\n",
      "Epoch 77/100\n",
      "997/997 [==============================] - 0s 47us/step - loss: 0.6817 - accuracy: 0.5667 - val_loss: 0.6723 - val_accuracy: 0.5856\n",
      "Epoch 78/100\n",
      "997/997 [==============================] - 0s 47us/step - loss: 0.6815 - accuracy: 0.5697 - val_loss: 0.6723 - val_accuracy: 0.5856\n",
      "Epoch 79/100\n",
      "997/997 [==============================] - 0s 52us/step - loss: 0.6813 - accuracy: 0.5707 - val_loss: 0.6723 - val_accuracy: 0.5946\n",
      "Epoch 80/100\n",
      "997/997 [==============================] - 0s 51us/step - loss: 0.6811 - accuracy: 0.5717 - val_loss: 0.6723 - val_accuracy: 0.5946\n",
      "Epoch 81/100\n",
      "997/997 [==============================] - 0s 49us/step - loss: 0.6810 - accuracy: 0.5717 - val_loss: 0.6723 - val_accuracy: 0.5946\n",
      "Epoch 82/100\n",
      "997/997 [==============================] - 0s 51us/step - loss: 0.6808 - accuracy: 0.5707 - val_loss: 0.6723 - val_accuracy: 0.5946\n",
      "Epoch 83/100\n",
      "997/997 [==============================] - 0s 52us/step - loss: 0.6806 - accuracy: 0.5727 - val_loss: 0.6723 - val_accuracy: 0.5856\n",
      "Epoch 84/100\n",
      "997/997 [==============================] - 0s 47us/step - loss: 0.6805 - accuracy: 0.5737 - val_loss: 0.6723 - val_accuracy: 0.5856\n",
      "Epoch 85/100\n",
      "997/997 [==============================] - 0s 48us/step - loss: 0.6803 - accuracy: 0.5747 - val_loss: 0.6723 - val_accuracy: 0.5856\n",
      "Epoch 86/100\n",
      "997/997 [==============================] - 0s 52us/step - loss: 0.6801 - accuracy: 0.5727 - val_loss: 0.6723 - val_accuracy: 0.5766\n",
      "Epoch 87/100\n",
      "997/997 [==============================] - 0s 60us/step - loss: 0.6799 - accuracy: 0.5707 - val_loss: 0.6723 - val_accuracy: 0.5766\n",
      "Epoch 88/100\n",
      "997/997 [==============================] - 0s 51us/step - loss: 0.6798 - accuracy: 0.5707 - val_loss: 0.6723 - val_accuracy: 0.5766\n",
      "Epoch 89/100\n",
      "997/997 [==============================] - 0s 52us/step - loss: 0.6796 - accuracy: 0.5677 - val_loss: 0.6723 - val_accuracy: 0.5766\n",
      "Epoch 90/100\n",
      "997/997 [==============================] - 0s 51us/step - loss: 0.6794 - accuracy: 0.5687 - val_loss: 0.6724 - val_accuracy: 0.5766\n",
      "Epoch 91/100\n",
      "997/997 [==============================] - 0s 53us/step - loss: 0.6792 - accuracy: 0.5707 - val_loss: 0.6724 - val_accuracy: 0.5856\n",
      "Epoch 92/100\n",
      "997/997 [==============================] - 0s 53us/step - loss: 0.6791 - accuracy: 0.5707 - val_loss: 0.6724 - val_accuracy: 0.5856\n",
      "Epoch 93/100\n",
      "997/997 [==============================] - 0s 60us/step - loss: 0.6789 - accuracy: 0.5707 - val_loss: 0.6724 - val_accuracy: 0.5856\n",
      "Epoch 94/100\n",
      "997/997 [==============================] - 0s 57us/step - loss: 0.6787 - accuracy: 0.5707 - val_loss: 0.6725 - val_accuracy: 0.5946\n",
      "Epoch 95/100\n",
      "997/997 [==============================] - 0s 50us/step - loss: 0.6786 - accuracy: 0.5697 - val_loss: 0.6725 - val_accuracy: 0.5946\n",
      "Epoch 96/100\n",
      "997/997 [==============================] - 0s 55us/step - loss: 0.6784 - accuracy: 0.5697 - val_loss: 0.6725 - val_accuracy: 0.5946\n",
      "Epoch 97/100\n",
      "997/997 [==============================] - 0s 50us/step - loss: 0.6782 - accuracy: 0.5697 - val_loss: 0.6725 - val_accuracy: 0.5946\n",
      "Epoch 98/100\n",
      "997/997 [==============================] - 0s 49us/step - loss: 0.6780 - accuracy: 0.5687 - val_loss: 0.6726 - val_accuracy: 0.5856\n",
      "Epoch 99/100\n",
      "997/997 [==============================] - 0s 50us/step - loss: 0.6779 - accuracy: 0.5657 - val_loss: 0.6726 - val_accuracy: 0.5766\n",
      "Epoch 100/100\n",
      "997/997 [==============================] - 0s 53us/step - loss: 0.6777 - accuracy: 0.5667 - val_loss: 0.6726 - val_accuracy: 0.5766\n"
     ]
    }
   ],
   "source": [
    "# train the model while storing all loss values\n",
    "history=classifier.fit(X_train, y_train, batch_size = 20, epochs = 100, validation_split=0.1, shuffle=False)"
   ]
  },
  {
   "cell_type": "code",
   "execution_count": 7,
   "metadata": {},
   "outputs": [
    {
     "data": {
      "text/plain": [
       "<matplotlib.legend.Legend at 0x13a57c160>"
      ]
     },
     "execution_count": 7,
     "metadata": {},
     "output_type": "execute_result"
    },
    {
     "data": {
      "image/png": "[encoded data removed]",
      "text/plain": [
       "<Figure size 720x576 with 1 Axes>"
      ]
     },
     "metadata": {
      "needs_background": "light"
     },
     "output_type": "display_data"
    }
   ],
   "source": [
    "matplotlib.rcParams['figure.figsize'] = (10.0, 8.0) \n",
    "\n",
    "# plot training error and test error plots \n",
    "plt.plot(history.history['loss'])\n",
    "plt.plot(history.history['val_loss'])\n",
    "plt.ylabel('loss')\n",
    "plt.xlabel('epoch')\n",
    "plt.legend(['train loss', 'validation loss'], loc='upper right')"
   ]
  },
  {
   "cell_type": "code",
   "execution_count": 8,
   "metadata": {},
   "outputs": [
    {
     "name": "stdout",
     "output_type": "stream",
     "text": [
      "Best Accuracy on training set = 57.472%\n",
      "Best Accuracy on validation set = 61.261%\n",
      "277/277 [==============================] - 0s 36us/step\n",
      "The loss on the test set is 0.7101 and the accuracy is 49.458%\n"
     ]
    }
   ],
   "source": [
    "# print the best accuracy reached on training set and the test set\n",
    "print(f\"Best Accuracy on training set = {max(history.history['accuracy'])*100:.3f}%\")\n",
    "print(f\"Best Accuracy on validation set = {max(history.history['val_accuracy'])*100:.3f}%\") \n",
    "\n",
    "test_loss, test_acc = classifier.evaluate(X_test, y_test['AdvancedFibrosis'])\n",
    "print(f'The loss on the test set is {test_loss:.4f} and the accuracy is {test_acc*100:.3f}%')"
   ]
  },
  {
   "cell_type": "code",
   "execution_count": 9,
   "metadata": {},
   "outputs": [
    {
     "name": "stdout",
     "output_type": "stream",
     "text": [
      "Model: \"sequential_2\"\n",
      "_________________________________________________________________\n",
      "Layer (type)                 Output Shape              Param #   \n",
      "=================================================================\n",
      "dense_3 (Dense)              (None, 4)                 116       \n",
      "_________________________________________________________________\n",
      "dense_4 (Dense)              (None, 2)                 10        \n",
      "_________________________________________________________________\n",
      "dense_5 (Dense)              (None, 1)                 3         \n",
      "=================================================================\n",
      "Total params: 129\n",
      "Trainable params: 129\n",
      "Non-trainable params: 0\n",
      "_________________________________________________________________\n"
     ]
    }
   ],
   "source": [
    "# set up a seed for random number generator so the result will be reproducible\n",
    "np.random.seed(seed)\n",
    "random.set_seed(seed)\n",
    "# define the keras model\n",
    "classifier = Sequential()\n",
    "classifier.add(Dense(units = 4, activation = 'tanh', input_dim = X_train.shape[1]))\n",
    "classifier.add(Dense(units = 2, activation = 'tanh'))\n",
    "classifier.add(Dense(units = 1, activation = 'sigmoid'))\n",
    "classifier.compile(optimizer = 'sgd', loss = 'binary_crossentropy', metrics = ['accuracy'])\n",
    "\n",
    "classifier.summary()"
   ]
  },
  {
   "cell_type": "code",
   "execution_count": 10,
   "metadata": {},
   "outputs": [
    {
     "name": "stdout",
     "output_type": "stream",
     "text": [
      "Train on 997 samples, validate on 111 samples\n",
      "Epoch 1/100\n",
      "997/997 [==============================] - 0s 199us/step - loss: 0.7468 - accuracy: 0.4945 - val_loss: 0.7153 - val_accuracy: 0.5676\n",
      "Epoch 2/100\n",
      "997/997 [==============================] - 0s 48us/step - loss: 0.7376 - accuracy: 0.4935 - val_loss: 0.7101 - val_accuracy: 0.5586\n",
      "Epoch 3/100\n",
      "997/997 [==============================] - 0s 48us/step - loss: 0.7302 - accuracy: 0.4945 - val_loss: 0.7060 - val_accuracy: 0.5586\n",
      "Epoch 4/100\n",
      "997/997 [==============================] - 0s 48us/step - loss: 0.7243 - accuracy: 0.5035 - val_loss: 0.7028 - val_accuracy: 0.5586\n",
      "Epoch 5/100\n",
      "997/997 [==============================] - 0s 50us/step - loss: 0.7195 - accuracy: 0.5035 - val_loss: 0.7002 - val_accuracy: 0.5586\n",
      "Epoch 6/100\n",
      "997/997 [==============================] - 0s 50us/step - loss: 0.7155 - accuracy: 0.5015 - val_loss: 0.6981 - val_accuracy: 0.5405\n",
      "Epoch 7/100\n",
      "997/997 [==============================] - 0s 49us/step - loss: 0.7123 - accuracy: 0.4995 - val_loss: 0.6964 - val_accuracy: 0.5225\n",
      "Epoch 8/100\n",
      "997/997 [==============================] - 0s 46us/step - loss: 0.7096 - accuracy: 0.5035 - val_loss: 0.6951 - val_accuracy: 0.5315\n",
      "Epoch 9/100\n",
      "997/997 [==============================] - 0s 45us/step - loss: 0.7073 - accuracy: 0.5075 - val_loss: 0.6940 - val_accuracy: 0.5315\n",
      "Epoch 10/100\n",
      "997/997 [==============================] - 0s 45us/step - loss: 0.7054 - accuracy: 0.5055 - val_loss: 0.6931 - val_accuracy: 0.5315\n",
      "Epoch 11/100\n",
      "997/997 [==============================] - 0s 48us/step - loss: 0.7038 - accuracy: 0.5045 - val_loss: 0.6924 - val_accuracy: 0.5315\n",
      "Epoch 12/100\n",
      "997/997 [==============================] - 0s 47us/step - loss: 0.7025 - accuracy: 0.4985 - val_loss: 0.6918 - val_accuracy: 0.5225\n",
      "Epoch 13/100\n",
      "997/997 [==============================] - 0s 47us/step - loss: 0.7013 - accuracy: 0.5055 - val_loss: 0.6914 - val_accuracy: 0.5315\n",
      "Epoch 14/100\n",
      "997/997 [==============================] - 0s 46us/step - loss: 0.7003 - accuracy: 0.5055 - val_loss: 0.6910 - val_accuracy: 0.5315\n",
      "Epoch 15/100\n",
      "997/997 [==============================] - 0s 47us/step - loss: 0.6994 - accuracy: 0.5035 - val_loss: 0.6907 - val_accuracy: 0.5315\n",
      "Epoch 16/100\n",
      "997/997 [==============================] - 0s 45us/step - loss: 0.6987 - accuracy: 0.5055 - val_loss: 0.6905 - val_accuracy: 0.5586\n",
      "Epoch 17/100\n",
      "997/997 [==============================] - 0s 44us/step - loss: 0.6981 - accuracy: 0.5035 - val_loss: 0.6903 - val_accuracy: 0.5586\n",
      "Epoch 18/100\n",
      "997/997 [==============================] - 0s 46us/step - loss: 0.6975 - accuracy: 0.5025 - val_loss: 0.6901 - val_accuracy: 0.5586\n",
      "Epoch 19/100\n",
      "997/997 [==============================] - 0s 47us/step - loss: 0.6970 - accuracy: 0.5005 - val_loss: 0.6900 - val_accuracy: 0.5405\n",
      "Epoch 20/100\n",
      "997/997 [==============================] - 0s 48us/step - loss: 0.6966 - accuracy: 0.5025 - val_loss: 0.6899 - val_accuracy: 0.5405\n",
      "Epoch 21/100\n",
      "997/997 [==============================] - 0s 46us/step - loss: 0.6962 - accuracy: 0.5035 - val_loss: 0.6898 - val_accuracy: 0.5225\n",
      "Epoch 22/100\n",
      "997/997 [==============================] - 0s 49us/step - loss: 0.6958 - accuracy: 0.5025 - val_loss: 0.6898 - val_accuracy: 0.5225\n",
      "Epoch 23/100\n",
      "997/997 [==============================] - 0s 51us/step - loss: 0.6955 - accuracy: 0.5015 - val_loss: 0.6897 - val_accuracy: 0.5225\n",
      "Epoch 24/100\n",
      "997/997 [==============================] - 0s 54us/step - loss: 0.6953 - accuracy: 0.5015 - val_loss: 0.6897 - val_accuracy: 0.5135\n",
      "Epoch 25/100\n",
      "997/997 [==============================] - 0s 54us/step - loss: 0.6950 - accuracy: 0.5005 - val_loss: 0.6896 - val_accuracy: 0.5135\n",
      "Epoch 26/100\n",
      "997/997 [==============================] - 0s 53us/step - loss: 0.6948 - accuracy: 0.4955 - val_loss: 0.6896 - val_accuracy: 0.4955\n",
      "Epoch 27/100\n",
      "997/997 [==============================] - 0s 54us/step - loss: 0.6946 - accuracy: 0.5005 - val_loss: 0.6896 - val_accuracy: 0.4955\n",
      "Epoch 28/100\n",
      "997/997 [==============================] - 0s 53us/step - loss: 0.6944 - accuracy: 0.5015 - val_loss: 0.6896 - val_accuracy: 0.5045\n",
      "Epoch 29/100\n",
      "997/997 [==============================] - 0s 55us/step - loss: 0.6942 - accuracy: 0.5055 - val_loss: 0.6896 - val_accuracy: 0.5045\n",
      "Epoch 30/100\n",
      "997/997 [==============================] - 0s 52us/step - loss: 0.6941 - accuracy: 0.5075 - val_loss: 0.6896 - val_accuracy: 0.5045\n",
      "Epoch 31/100\n",
      "997/997 [==============================] - 0s 52us/step - loss: 0.6939 - accuracy: 0.5075 - val_loss: 0.6896 - val_accuracy: 0.4955\n",
      "Epoch 32/100\n",
      "997/997 [==============================] - 0s 51us/step - loss: 0.6938 - accuracy: 0.5065 - val_loss: 0.6896 - val_accuracy: 0.4955\n",
      "Epoch 33/100\n",
      "997/997 [==============================] - 0s 54us/step - loss: 0.6936 - accuracy: 0.5085 - val_loss: 0.6896 - val_accuracy: 0.5045\n",
      "Epoch 34/100\n",
      "997/997 [==============================] - 0s 53us/step - loss: 0.6935 - accuracy: 0.5115 - val_loss: 0.6896 - val_accuracy: 0.5135\n",
      "Epoch 35/100\n",
      "997/997 [==============================] - 0s 53us/step - loss: 0.6934 - accuracy: 0.5125 - val_loss: 0.6896 - val_accuracy: 0.5135\n",
      "Epoch 36/100\n",
      "997/997 [==============================] - 0s 56us/step - loss: 0.6933 - accuracy: 0.5115 - val_loss: 0.6896 - val_accuracy: 0.5135\n",
      "Epoch 37/100\n",
      "997/997 [==============================] - 0s 52us/step - loss: 0.6932 - accuracy: 0.5115 - val_loss: 0.6896 - val_accuracy: 0.5135\n",
      "Epoch 38/100\n",
      "997/997 [==============================] - 0s 54us/step - loss: 0.6931 - accuracy: 0.5115 - val_loss: 0.6895 - val_accuracy: 0.5225\n",
      "Epoch 39/100\n",
      "997/997 [==============================] - 0s 51us/step - loss: 0.6930 - accuracy: 0.5125 - val_loss: 0.6895 - val_accuracy: 0.5135\n",
      "Epoch 40/100\n",
      "997/997 [==============================] - 0s 60us/step - loss: 0.6929 - accuracy: 0.5145 - val_loss: 0.6895 - val_accuracy: 0.5135\n",
      "Epoch 41/100\n",
      "997/997 [==============================] - 0s 53us/step - loss: 0.6928 - accuracy: 0.5115 - val_loss: 0.6895 - val_accuracy: 0.5135\n",
      "Epoch 42/100\n",
      "997/997 [==============================] - 0s 61us/step - loss: 0.6927 - accuracy: 0.5135 - val_loss: 0.6895 - val_accuracy: 0.5135\n",
      "Epoch 43/100\n",
      "997/997 [==============================] - 0s 54us/step - loss: 0.6926 - accuracy: 0.5196 - val_loss: 0.6895 - val_accuracy: 0.5135\n",
      "Epoch 44/100\n",
      "997/997 [==============================] - 0s 52us/step - loss: 0.6926 - accuracy: 0.5206 - val_loss: 0.6895 - val_accuracy: 0.5135\n",
      "Epoch 45/100\n",
      "997/997 [==============================] - 0s 54us/step - loss: 0.6925 - accuracy: 0.5216 - val_loss: 0.6895 - val_accuracy: 0.5045\n",
      "Epoch 46/100\n",
      "997/997 [==============================] - 0s 52us/step - loss: 0.6924 - accuracy: 0.5246 - val_loss: 0.6895 - val_accuracy: 0.5045\n",
      "Epoch 47/100\n",
      "997/997 [==============================] - 0s 105us/step - loss: 0.6923 - accuracy: 0.5256 - val_loss: 0.6895 - val_accuracy: 0.5045\n",
      "Epoch 48/100\n",
      "997/997 [==============================] - 0s 59us/step - loss: 0.6923 - accuracy: 0.5266 - val_loss: 0.6895 - val_accuracy: 0.5225\n",
      "Epoch 49/100\n",
      "997/997 [==============================] - 0s 56us/step - loss: 0.6922 - accuracy: 0.5276 - val_loss: 0.6895 - val_accuracy: 0.5225\n",
      "Epoch 50/100\n",
      "997/997 [==============================] - 0s 54us/step - loss: 0.6921 - accuracy: 0.5256 - val_loss: 0.6895 - val_accuracy: 0.5225\n",
      "Epoch 51/100\n",
      "997/997 [==============================] - 0s 53us/step - loss: 0.6921 - accuracy: 0.5286 - val_loss: 0.6895 - val_accuracy: 0.5135\n",
      "Epoch 52/100\n",
      "997/997 [==============================] - 0s 52us/step - loss: 0.6920 - accuracy: 0.5286 - val_loss: 0.6894 - val_accuracy: 0.5135\n",
      "Epoch 53/100\n",
      "997/997 [==============================] - 0s 53us/step - loss: 0.6919 - accuracy: 0.5306 - val_loss: 0.6894 - val_accuracy: 0.5225\n",
      "Epoch 54/100\n",
      "997/997 [==============================] - 0s 51us/step - loss: 0.6919 - accuracy: 0.5316 - val_loss: 0.6894 - val_accuracy: 0.5225\n",
      "Epoch 55/100\n",
      "997/997 [==============================] - 0s 53us/step - loss: 0.6918 - accuracy: 0.5316 - val_loss: 0.6894 - val_accuracy: 0.5225\n",
      "Epoch 56/100\n",
      "997/997 [==============================] - 0s 52us/step - loss: 0.6917 - accuracy: 0.5316 - val_loss: 0.6894 - val_accuracy: 0.5315\n",
      "Epoch 57/100\n",
      "997/997 [==============================] - 0s 52us/step - loss: 0.6917 - accuracy: 0.5306 - val_loss: 0.6894 - val_accuracy: 0.5315\n",
      "Epoch 58/100\n",
      "997/997 [==============================] - 0s 54us/step - loss: 0.6916 - accuracy: 0.5296 - val_loss: 0.6894 - val_accuracy: 0.5225\n",
      "Epoch 59/100\n",
      "997/997 [==============================] - 0s 53us/step - loss: 0.6915 - accuracy: 0.5306 - val_loss: 0.6894 - val_accuracy: 0.5135\n",
      "Epoch 60/100\n",
      "997/997 [==============================] - 0s 55us/step - loss: 0.6915 - accuracy: 0.5316 - val_loss: 0.6894 - val_accuracy: 0.5135\n",
      "Epoch 61/100\n",
      "997/997 [==============================] - 0s 50us/step - loss: 0.6914 - accuracy: 0.5316 - val_loss: 0.6894 - val_accuracy: 0.5135\n",
      "Epoch 62/100\n",
      "997/997 [==============================] - 0s 51us/step - loss: 0.6914 - accuracy: 0.5336 - val_loss: 0.6893 - val_accuracy: 0.5135\n",
      "Epoch 63/100\n",
      "997/997 [==============================] - 0s 51us/step - loss: 0.6913 - accuracy: 0.5326 - val_loss: 0.6893 - val_accuracy: 0.5135\n",
      "Epoch 64/100\n",
      "997/997 [==============================] - 0s 54us/step - loss: 0.6912 - accuracy: 0.5366 - val_loss: 0.6893 - val_accuracy: 0.5135\n",
      "Epoch 65/100\n",
      "997/997 [==============================] - 0s 49us/step - loss: 0.6912 - accuracy: 0.5376 - val_loss: 0.6893 - val_accuracy: 0.5135\n",
      "Epoch 66/100\n",
      "997/997 [==============================] - 0s 50us/step - loss: 0.6911 - accuracy: 0.5366 - val_loss: 0.6893 - val_accuracy: 0.5135\n",
      "Epoch 67/100\n",
      "997/997 [==============================] - 0s 50us/step - loss: 0.6910 - accuracy: 0.5356 - val_loss: 0.6893 - val_accuracy: 0.5045\n",
      "Epoch 68/100\n",
      "997/997 [==============================] - 0s 51us/step - loss: 0.6910 - accuracy: 0.5386 - val_loss: 0.6893 - val_accuracy: 0.5045\n",
      "Epoch 69/100\n",
      "997/997 [==============================] - 0s 55us/step - loss: 0.6909 - accuracy: 0.5396 - val_loss: 0.6893 - val_accuracy: 0.5135\n",
      "Epoch 70/100\n",
      "997/997 [==============================] - 0s 53us/step - loss: 0.6908 - accuracy: 0.5416 - val_loss: 0.6893 - val_accuracy: 0.5135\n",
      "Epoch 71/100\n",
      "997/997 [==============================] - 0s 50us/step - loss: 0.6908 - accuracy: 0.5416 - val_loss: 0.6893 - val_accuracy: 0.5135\n",
      "Epoch 72/100\n",
      "997/997 [==============================] - 0s 51us/step - loss: 0.6907 - accuracy: 0.5426 - val_loss: 0.6892 - val_accuracy: 0.5135\n",
      "Epoch 73/100\n",
      "997/997 [==============================] - 0s 52us/step - loss: 0.6906 - accuracy: 0.5416 - val_loss: 0.6892 - val_accuracy: 0.5045\n",
      "Epoch 74/100\n",
      "997/997 [==============================] - 0s 53us/step - loss: 0.6906 - accuracy: 0.5426 - val_loss: 0.6892 - val_accuracy: 0.4955\n",
      "Epoch 75/100\n",
      "997/997 [==============================] - 0s 51us/step - loss: 0.6905 - accuracy: 0.5436 - val_loss: 0.6892 - val_accuracy: 0.4955\n",
      "Epoch 76/100\n",
      "997/997 [==============================] - 0s 50us/step - loss: 0.6904 - accuracy: 0.5456 - val_loss: 0.6892 - val_accuracy: 0.5045\n",
      "Epoch 77/100\n",
      "997/997 [==============================] - 0s 51us/step - loss: 0.6904 - accuracy: 0.5446 - val_loss: 0.6892 - val_accuracy: 0.5135\n",
      "Epoch 78/100\n",
      "997/997 [==============================] - 0s 49us/step - loss: 0.6903 - accuracy: 0.5456 - val_loss: 0.6892 - val_accuracy: 0.5135\n",
      "Epoch 79/100\n",
      "997/997 [==============================] - 0s 52us/step - loss: 0.6902 - accuracy: 0.5466 - val_loss: 0.6892 - val_accuracy: 0.5135\n",
      "Epoch 80/100\n",
      "997/997 [==============================] - 0s 53us/step - loss: 0.6902 - accuracy: 0.5476 - val_loss: 0.6892 - val_accuracy: 0.5135\n",
      "Epoch 81/100\n",
      "997/997 [==============================] - 0s 55us/step - loss: 0.6901 - accuracy: 0.5476 - val_loss: 0.6892 - val_accuracy: 0.5135\n",
      "Epoch 82/100\n",
      "997/997 [==============================] - 0s 51us/step - loss: 0.6900 - accuracy: 0.5496 - val_loss: 0.6892 - val_accuracy: 0.5135\n",
      "Epoch 83/100\n",
      "997/997 [==============================] - 0s 55us/step - loss: 0.6899 - accuracy: 0.5507 - val_loss: 0.6891 - val_accuracy: 0.5135\n",
      "Epoch 84/100\n",
      "997/997 [==============================] - 0s 56us/step - loss: 0.6899 - accuracy: 0.5496 - val_loss: 0.6891 - val_accuracy: 0.5135\n",
      "Epoch 85/100\n",
      "997/997 [==============================] - 0s 53us/step - loss: 0.6898 - accuracy: 0.5496 - val_loss: 0.6891 - val_accuracy: 0.5135\n",
      "Epoch 86/100\n",
      "997/997 [==============================] - 0s 49us/step - loss: 0.6897 - accuracy: 0.5496 - val_loss: 0.6891 - val_accuracy: 0.5135\n",
      "Epoch 87/100\n",
      "997/997 [==============================] - 0s 50us/step - loss: 0.6896 - accuracy: 0.5496 - val_loss: 0.6891 - val_accuracy: 0.5135\n",
      "Epoch 88/100\n",
      "997/997 [==============================] - 0s 53us/step - loss: 0.6896 - accuracy: 0.5517 - val_loss: 0.6891 - val_accuracy: 0.5135\n",
      "Epoch 89/100\n",
      "997/997 [==============================] - 0s 51us/step - loss: 0.6895 - accuracy: 0.5517 - val_loss: 0.6891 - val_accuracy: 0.5135\n",
      "Epoch 90/100\n",
      "997/997 [==============================] - 0s 53us/step - loss: 0.6894 - accuracy: 0.5517 - val_loss: 0.6891 - val_accuracy: 0.5135\n",
      "Epoch 91/100\n",
      "997/997 [==============================] - 0s 49us/step - loss: 0.6893 - accuracy: 0.5557 - val_loss: 0.6891 - val_accuracy: 0.5135\n",
      "Epoch 92/100\n",
      "997/997 [==============================] - 0s 51us/step - loss: 0.6892 - accuracy: 0.5557 - val_loss: 0.6891 - val_accuracy: 0.5135\n",
      "Epoch 93/100\n",
      "997/997 [==============================] - 0s 51us/step - loss: 0.6891 - accuracy: 0.5557 - val_loss: 0.6891 - val_accuracy: 0.5135\n",
      "Epoch 94/100\n",
      "997/997 [==============================] - 0s 52us/step - loss: 0.6891 - accuracy: 0.5537 - val_loss: 0.6891 - val_accuracy: 0.5225\n",
      "Epoch 95/100\n",
      "997/997 [==============================] - 0s 53us/step - loss: 0.6890 - accuracy: 0.5547 - val_loss: 0.6891 - val_accuracy: 0.5225\n",
      "Epoch 96/100\n",
      "997/997 [==============================] - 0s 52us/step - loss: 0.6889 - accuracy: 0.5547 - val_loss: 0.6890 - val_accuracy: 0.5225\n",
      "Epoch 97/100\n",
      "997/997 [==============================] - 0s 51us/step - loss: 0.6888 - accuracy: 0.5557 - val_loss: 0.6890 - val_accuracy: 0.5225\n",
      "Epoch 98/100\n",
      "997/997 [==============================] - 0s 52us/step - loss: 0.6887 - accuracy: 0.5547 - val_loss: 0.6890 - val_accuracy: 0.5225\n",
      "Epoch 99/100\n",
      "997/997 [==============================] - 0s 50us/step - loss: 0.6886 - accuracy: 0.5557 - val_loss: 0.6890 - val_accuracy: 0.5225\n",
      "Epoch 100/100\n",
      "997/997 [==============================] - 0s 52us/step - loss: 0.6885 - accuracy: 0.5557 - val_loss: 0.6890 - val_accuracy: 0.5315\n"
     ]
    }
   ],
   "source": [
    "# train the model while storing all loss values\n",
    "history=classifier.fit(X_train, y_train, batch_size = 20, epochs = 100, validation_split=0.1, shuffle=False)"
   ]
  },
  {
   "cell_type": "code",
   "execution_count": 11,
   "metadata": {},
   "outputs": [
    {
     "data": {
      "text/plain": [
       "<matplotlib.legend.Legend at 0x13ab84400>"
      ]
     },
     "execution_count": 11,
     "metadata": {},
     "output_type": "execute_result"
    },
    {
     "data": {
      "image/png": "[encoded data removed]",
      "text/plain": [
       "<Figure size 720x576 with 1 Axes>"
      ]
     },
     "metadata": {
      "needs_background": "light"
     },
     "output_type": "display_data"
    }
   ],
   "source": [
    "# plot training error and test error plots \n",
    "matplotlib.rcParams['figure.figsize'] = (10.0, 8.0)\n",
    "plt.plot(history.history['loss'])\n",
    "plt.plot(history.history['val_loss'])\n",
    "plt.ylabel('loss')\n",
    "plt.xlabel('epoch')\n",
    "plt.legend(['train loss', 'validation loss'], loc='upper right')"
   ]
  },
  {
   "cell_type": "code",
   "execution_count": 12,
   "metadata": {},
   "outputs": [
    {
     "name": "stdout",
     "output_type": "stream",
     "text": [
      "Best Accuracy on training set = 55.567%\n",
      "Best Accuracy on test set = 56.757%\n",
      "277/277 [==============================] - 0s 22us/step\n",
      "The loss on the test set is 0.6861 and the accuracy is 50.903%\n"
     ]
    }
   ],
   "source": [
    "# print the best accuracy reached on training set and the test set\n",
    "print(f\"Best Accuracy on training set = {max(history.history['accuracy'])*100:.3f}%\")\n",
    "print(f\"Best Accuracy on test set = {max(history.history['val_accuracy'])*100:.3f}%\")\n",
    "\n",
    "test_loss, test_acc = classifier.evaluate(X_test, y_test['AdvancedFibrosis'])\n",
    "print(f'The loss on the test set is {test_loss:.4f} and the accuracy is {test_acc*100:.3f}%')"
   ]
  }
 ],
 "metadata": {
  "kernelspec": {
   "display_name": "py3.7",
   "language": "python",
   "name": "py3.7"
  },
  "language_info": {
   "codemirror_mode": {
    "name": "ipython",
    "version": 3
   },
   "file_extension": ".py",
   "mimetype": "text/x-python",
   "name": "python",
   "nbconvert_exporter": "python",
   "pygments_lexer": "ipython3",
   "version": "3.7.2"
  }
 },
 "nbformat": 4,
 "nbformat_minor": 2
}
