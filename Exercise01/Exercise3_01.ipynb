{
 "cells": [
  {
   "cell_type": "markdown",
   "metadata": {},
   "source": [
    "# Exercise 3.01"
   ]
  },
  {
   "cell_type": "code",
   "execution_count": 1,
   "metadata": {},
   "outputs": [
    {
     "name": "stdout",
     "output_type": "stream",
     "text": [
      "Number of Examples in the Dataset =  10000\n",
      "Number of Features for each example =  10\n",
      "Possible Output Classes =  [0 1]\n"
     ]
    }
   ],
   "source": [
    "# load classification data\n",
    "import numpy as np\n",
    "import pandas as pd\n",
    "X = pd.read_csv('../data/tree_class_feats.csv')\n",
    "y = pd.read_csv('../data/tree_class_target.csv')\n",
    "\n",
    "# Print the sizes of the dataset\n",
    "print(\"Number of Examples in the Dataset = \", X.shape[0])\n",
    "print(\"Number of Features for each example = \", X.shape[1]) \n",
    "print(\"Possible Output Classes = \", np.unique(y))"
   ]
  },
  {
   "cell_type": "code",
   "execution_count": 2,
   "metadata": {},
   "outputs": [
    {
     "name": "stderr",
     "output_type": "stream",
     "text": [
      "Using TensorFlow backend.\n"
     ]
    }
   ],
   "source": [
    "# Define your model as a Keras sequential model \n",
    "from keras.models import Sequential\n",
    "from tensorflow import random\n",
    "random.set_seed(42)\n",
    "np.random.seed(42)\n",
    "model = Sequential()"
   ]
  },
  {
   "cell_type": "code",
   "execution_count": 3,
   "metadata": {
    "collapsed": true
   },
   "outputs": [],
   "source": [
    "# Add one hidden layer of size 10 with activation function of type tanh to your model\n",
    "from keras.layers import Dense, Activation\n",
    "model.add(Dense(10, activation='tanh', input_dim=X.shape[1]))"
   ]
  },
  {
   "cell_type": "code",
   "execution_count": 4,
   "metadata": {
    "collapsed": true
   },
   "outputs": [],
   "source": [
    "# Add another hidden layer, this time of size 5, with activation function of type tanh \n",
    "model.add(Dense(5, activation='tanh'))"
   ]
  },
  {
   "cell_type": "code",
   "execution_count": 5,
   "metadata": {
    "collapsed": true
   },
   "outputs": [],
   "source": [
    "# Add the output layer with sigmoid activation function\n",
    "model.add(Dense(1, activation='sigmoid'))"
   ]
  },
  {
   "cell_type": "code",
   "execution_count": 6,
   "metadata": {},
   "outputs": [
    {
     "name": "stdout",
     "output_type": "stream",
     "text": [
      "Model: \"sequential_1\"\n",
      "_________________________________________________________________\n",
      "Layer (type)                 Output Shape              Param #   \n",
      "=================================================================\n",
      "dense_1 (Dense)              (None, 10)                110       \n",
      "_________________________________________________________________\n",
      "dense_2 (Dense)              (None, 5)                 55        \n",
      "_________________________________________________________________\n",
      "dense_3 (Dense)              (None, 1)                 6         \n",
      "=================================================================\n",
      "Total params: 171\n",
      "Trainable params: 171\n",
      "Non-trainable params: 0\n",
      "_________________________________________________________________\n"
     ]
    }
   ],
   "source": [
    "# Choose the loss function to be binary cross entropy and the optimizer to be SGD for training the model\n",
    "model.compile(optimizer='sgd', loss='binary_crossentropy', metrics=['accuracy'])\n",
    "model.summary()"
   ]
  },
  {
   "cell_type": "code",
   "execution_count": 7,
   "metadata": {},
   "outputs": [
    {
     "name": "stdout",
     "output_type": "stream",
     "text": [
      "Train on 8000 samples, validate on 2000 samples\n",
      "Epoch 1/100\n",
      "8000/8000 [==============================] - 2s 273us/step - loss: 0.3609 - accuracy: 0.8393 - val_loss: 0.3119 - val_accuracy: 0.8660\n",
      "Epoch 2/100\n",
      "8000/8000 [==============================] - 2s 263us/step - loss: 0.3102 - accuracy: 0.8668 - val_loss: 0.2862 - val_accuracy: 0.8765\n",
      "Epoch 3/100\n",
      "8000/8000 [==============================] - 2s 251us/step - loss: 0.2852 - accuracy: 0.8766 - val_loss: 0.2644 - val_accuracy: 0.8920\n",
      "Epoch 4/100\n",
      "8000/8000 [==============================] - 2s 252us/step - loss: 0.2627 - accuracy: 0.8881 - val_loss: 0.2436 - val_accuracy: 0.8990\n",
      "Epoch 5/100\n",
      "8000/8000 [==============================] - 2s 235us/step - loss: 0.2384 - accuracy: 0.9018 - val_loss: 0.2154 - val_accuracy: 0.9125\n",
      "Epoch 6/100\n",
      "8000/8000 [==============================] - 2s 237us/step - loss: 0.2190 - accuracy: 0.9109 - val_loss: 0.2023 - val_accuracy: 0.9200\n",
      "Epoch 7/100\n",
      "8000/8000 [==============================] - 2s 231us/step - loss: 0.2055 - accuracy: 0.9195 - val_loss: 0.1998 - val_accuracy: 0.9200\n",
      "Epoch 8/100\n",
      "8000/8000 [==============================] - 2s 223us/step - loss: 0.1990 - accuracy: 0.9227 - val_loss: 0.1859 - val_accuracy: 0.9295\n",
      "Epoch 9/100\n",
      "8000/8000 [==============================] - 2s 219us/step - loss: 0.1924 - accuracy: 0.9246 - val_loss: 0.1973 - val_accuracy: 0.9200\n",
      "Epoch 10/100\n",
      "8000/8000 [==============================] - 2s 235us/step - loss: 0.1892 - accuracy: 0.9271 - val_loss: 0.1879 - val_accuracy: 0.9235\n",
      "Epoch 11/100\n",
      "8000/8000 [==============================] - 2s 228us/step - loss: 0.1855 - accuracy: 0.9287 - val_loss: 0.1840 - val_accuracy: 0.9210\n",
      "Epoch 12/100\n",
      "8000/8000 [==============================] - 2s 208us/step - loss: 0.1838 - accuracy: 0.9290 - val_loss: 0.1831 - val_accuracy: 0.9275\n",
      "Epoch 13/100\n",
      "8000/8000 [==============================] - 2s 204us/step - loss: 0.1813 - accuracy: 0.9302 - val_loss: 0.1775 - val_accuracy: 0.9270\n",
      "Epoch 14/100\n",
      "8000/8000 [==============================] - 2s 215us/step - loss: 0.1787 - accuracy: 0.9294 - val_loss: 0.1726 - val_accuracy: 0.9325\n",
      "Epoch 15/100\n",
      "8000/8000 [==============================] - 2s 222us/step - loss: 0.1781 - accuracy: 0.9327 - val_loss: 0.1724 - val_accuracy: 0.9305\n",
      "Epoch 16/100\n",
      "8000/8000 [==============================] - 2s 235us/step - loss: 0.1756 - accuracy: 0.9336 - val_loss: 0.1826 - val_accuracy: 0.9235\n",
      "Epoch 17/100\n",
      "8000/8000 [==============================] - 2s 238us/step - loss: 0.1749 - accuracy: 0.9340 - val_loss: 0.1775 - val_accuracy: 0.9280\n",
      "Epoch 18/100\n",
      "8000/8000 [==============================] - 2s 238us/step - loss: 0.1727 - accuracy: 0.9336 - val_loss: 0.1756 - val_accuracy: 0.9320\n",
      "Epoch 19/100\n",
      "8000/8000 [==============================] - 2s 232us/step - loss: 0.1719 - accuracy: 0.9336 - val_loss: 0.1797 - val_accuracy: 0.9290\n",
      "Epoch 20/100\n",
      "8000/8000 [==============================] - 2s 255us/step - loss: 0.1718 - accuracy: 0.9333 - val_loss: 0.1718 - val_accuracy: 0.9335\n",
      "Epoch 21/100\n",
      "8000/8000 [==============================] - 2s 211us/step - loss: 0.1698 - accuracy: 0.9351 - val_loss: 0.1781 - val_accuracy: 0.9295\n",
      "Epoch 22/100\n",
      "8000/8000 [==============================] - 2s 213us/step - loss: 0.1684 - accuracy: 0.9358 - val_loss: 0.1712 - val_accuracy: 0.9285\n",
      "Epoch 23/100\n",
      "8000/8000 [==============================] - 2s 216us/step - loss: 0.1695 - accuracy: 0.9337 - val_loss: 0.1727 - val_accuracy: 0.9345\n",
      "Epoch 24/100\n",
      "8000/8000 [==============================] - 2s 233us/step - loss: 0.1684 - accuracy: 0.9351 - val_loss: 0.1710 - val_accuracy: 0.9305\n",
      "Epoch 25/100\n",
      "8000/8000 [==============================] - 2s 222us/step - loss: 0.1664 - accuracy: 0.9360 - val_loss: 0.1749 - val_accuracy: 0.9280\n",
      "Epoch 26/100\n",
      "8000/8000 [==============================] - 2s 247us/step - loss: 0.1673 - accuracy: 0.9360 - val_loss: 0.1676 - val_accuracy: 0.9345\n",
      "Epoch 27/100\n",
      "8000/8000 [==============================] - 2s 241us/step - loss: 0.1652 - accuracy: 0.9366 - val_loss: 0.1688 - val_accuracy: 0.9305\n",
      "Epoch 28/100\n",
      "8000/8000 [==============================] - 2s 217us/step - loss: 0.1656 - accuracy: 0.9358 - val_loss: 0.1633 - val_accuracy: 0.9365\n",
      "Epoch 29/100\n",
      "8000/8000 [==============================] - 2s 203us/step - loss: 0.1640 - accuracy: 0.9366 - val_loss: 0.1634 - val_accuracy: 0.9360\n",
      "Epoch 30/100\n",
      "8000/8000 [==============================] - 2s 207us/step - loss: 0.1635 - accuracy: 0.9364 - val_loss: 0.1657 - val_accuracy: 0.9365\n",
      "Epoch 31/100\n",
      "8000/8000 [==============================] - 2s 215us/step - loss: 0.1640 - accuracy: 0.9374 - val_loss: 0.1647 - val_accuracy: 0.9330\n",
      "Epoch 32/100\n",
      "8000/8000 [==============================] - 2s 211us/step - loss: 0.1626 - accuracy: 0.9370 - val_loss: 0.1651 - val_accuracy: 0.9365\n",
      "Epoch 33/100\n",
      "8000/8000 [==============================] - 2s 261us/step - loss: 0.1627 - accuracy: 0.9361 - val_loss: 0.1594 - val_accuracy: 0.9350\n",
      "Epoch 34/100\n",
      "8000/8000 [==============================] - 2s 248us/step - loss: 0.1622 - accuracy: 0.9360 - val_loss: 0.1657 - val_accuracy: 0.9320 - loss: 0.1611 - accuracy\n",
      "Epoch 35/100\n",
      "8000/8000 [==============================] - 2s 273us/step - loss: 0.1615 - accuracy: 0.9369 - val_loss: 0.1583 - val_accuracy: 0.9395\n",
      "Epoch 36/100\n",
      "8000/8000 [==============================] - 2s 270us/step - loss: 0.1603 - accuracy: 0.9381 - val_loss: 0.1600 - val_accuracy: 0.9380\n",
      "Epoch 37/100\n",
      "8000/8000 [==============================] - 2s 248us/step - loss: 0.1597 - accuracy: 0.9377 - val_loss: 0.1627 - val_accuracy: 0.9370\n",
      "Epoch 38/100\n",
      "8000/8000 [==============================] - 2s 228us/step - loss: 0.1606 - accuracy: 0.9398 - val_loss: 0.1634 - val_accuracy: 0.9370\n",
      "Epoch 39/100\n",
      "8000/8000 [==============================] - 2s 217us/step - loss: 0.1590 - accuracy: 0.9384 - val_loss: 0.1670 - val_accuracy: 0.9395\n",
      "Epoch 40/100\n",
      "8000/8000 [==============================] - 2s 229us/step - loss: 0.1591 - accuracy: 0.9395 - val_loss: 0.1606 - val_accuracy: 0.9380\n",
      "Epoch 41/100\n",
      "8000/8000 [==============================] - 2s 239us/step - loss: 0.1582 - accuracy: 0.9399 - val_loss: 0.1600 - val_accuracy: 0.9345\n",
      "Epoch 42/100\n",
      "8000/8000 [==============================] - 2s 238us/step - loss: 0.1587 - accuracy: 0.9386 - val_loss: 0.1617 - val_accuracy: 0.9345\n",
      "Epoch 43/100\n",
      "8000/8000 [==============================] - 2s 255us/step - loss: 0.1583 - accuracy: 0.9386 - val_loss: 0.1587 - val_accuracy: 0.9385\n",
      "Epoch 44/100\n",
      "8000/8000 [==============================] - 2s 248us/step - loss: 0.1573 - accuracy: 0.9394 - val_loss: 0.1605 - val_accuracy: 0.9350\n",
      "Epoch 45/100\n",
      "8000/8000 [==============================] - 2s 256us/step - loss: 0.1568 - accuracy: 0.9398 - val_loss: 0.1619 - val_accuracy: 0.9360\n",
      "Epoch 46/100\n",
      "8000/8000 [==============================] - 2s 263us/step - loss: 0.1555 - accuracy: 0.9392 - val_loss: 0.1598 - val_accuracy: 0.9380\n",
      "Epoch 47/100\n",
      "8000/8000 [==============================] - 2s 221us/step - loss: 0.1569 - accuracy: 0.9383 - val_loss: 0.1620 - val_accuracy: 0.9370\n",
      "Epoch 48/100\n",
      "8000/8000 [==============================] - 2s 258us/step - loss: 0.1569 - accuracy: 0.9404 - val_loss: 0.1574 - val_accuracy: 0.9370\n",
      "Epoch 49/100\n",
      "8000/8000 [==============================] - 2s 239us/step - loss: 0.1561 - accuracy: 0.9406 - val_loss: 0.1560 - val_accuracy: 0.9380\n",
      "Epoch 50/100\n",
      "8000/8000 [==============================] - 2s 240us/step - loss: 0.1543 - accuracy: 0.9411 - val_loss: 0.1568 - val_accuracy: 0.9330\n",
      "Epoch 51/100\n",
      "8000/8000 [==============================] - 2s 222us/step - loss: 0.1541 - accuracy: 0.9411 - val_loss: 0.1537 - val_accuracy: 0.9390\n",
      "Epoch 52/100\n",
      "8000/8000 [==============================] - 2s 242us/step - loss: 0.1551 - accuracy: 0.9398 - val_loss: 0.1601 - val_accuracy: 0.9360\n",
      "Epoch 53/100\n",
      "8000/8000 [==============================] - 2s 239us/step - loss: 0.1547 - accuracy: 0.9409 - val_loss: 0.1535 - val_accuracy: 0.9375\n",
      "Epoch 54/100\n",
      "8000/8000 [==============================] - 2s 233us/step - loss: 0.1536 - accuracy: 0.9402 - val_loss: 0.1538 - val_accuracy: 0.9350\n",
      "Epoch 55/100\n",
      "8000/8000 [==============================] - 2s 228us/step - loss: 0.1514 - accuracy: 0.9430 - val_loss: 0.1552 - val_accuracy: 0.9410\n"
     ]
    },
    {
     "name": "stdout",
     "output_type": "stream",
     "text": [
      "Epoch 56/100\n",
      "8000/8000 [==============================] - 2s 220us/step - loss: 0.1516 - accuracy: 0.9430 - val_loss: 0.1584 - val_accuracy: 0.9360\n",
      "Epoch 57/100\n",
      "8000/8000 [==============================] - 2s 217us/step - loss: 0.1519 - accuracy: 0.9423 - val_loss: 0.1523 - val_accuracy: 0.9395\n",
      "Epoch 58/100\n",
      "8000/8000 [==============================] - 2s 223us/step - loss: 0.1509 - accuracy: 0.9416 - val_loss: 0.1521 - val_accuracy: 0.9380\n",
      "Epoch 59/100\n",
      "8000/8000 [==============================] - 2s 218us/step - loss: 0.1496 - accuracy: 0.9429 - val_loss: 0.1433 - val_accuracy: 0.9445\n",
      "Epoch 60/100\n",
      "8000/8000 [==============================] - 2s 200us/step - loss: 0.1492 - accuracy: 0.9423 - val_loss: 0.1458 - val_accuracy: 0.9385\n",
      "Epoch 61/100\n",
      "8000/8000 [==============================] - 2s 210us/step - loss: 0.1481 - accuracy: 0.9438 - val_loss: 0.1443 - val_accuracy: 0.9440\n",
      "Epoch 62/100\n",
      "8000/8000 [==============================] - 2s 220us/step - loss: 0.1478 - accuracy: 0.9441 - val_loss: 0.1476 - val_accuracy: 0.9440\n",
      "Epoch 63/100\n",
      "8000/8000 [==============================] - 2s 224us/step - loss: 0.1471 - accuracy: 0.9417 - val_loss: 0.1458 - val_accuracy: 0.9410\n",
      "Epoch 64/100\n",
      "8000/8000 [==============================] - 2s 219us/step - loss: 0.1472 - accuracy: 0.9460 - val_loss: 0.1420 - val_accuracy: 0.9415\n",
      "Epoch 65/100\n",
      "8000/8000 [==============================] - 2s 223us/step - loss: 0.1456 - accuracy: 0.9456 - val_loss: 0.1484 - val_accuracy: 0.9425\n",
      "Epoch 66/100\n",
      "8000/8000 [==============================] - 2s 207us/step - loss: 0.1454 - accuracy: 0.9430 - val_loss: 0.1444 - val_accuracy: 0.9405\n",
      "Epoch 67/100\n",
      "8000/8000 [==============================] - 2s 219us/step - loss: 0.1437 - accuracy: 0.9446 - val_loss: 0.1458 - val_accuracy: 0.9415\n",
      "Epoch 68/100\n",
      "8000/8000 [==============================] - 2s 228us/step - loss: 0.1441 - accuracy: 0.9445 - val_loss: 0.1463 - val_accuracy: 0.9435\n",
      "Epoch 69/100\n",
      "8000/8000 [==============================] - 2s 215us/step - loss: 0.1432 - accuracy: 0.9479 - val_loss: 0.1467 - val_accuracy: 0.9380\n",
      "Epoch 70/100\n",
      "8000/8000 [==============================] - 2s 224us/step - loss: 0.1433 - accuracy: 0.9452 - val_loss: 0.1468 - val_accuracy: 0.9450\n",
      "Epoch 71/100\n",
      "8000/8000 [==============================] - 2s 217us/step - loss: 0.1422 - accuracy: 0.9465 - val_loss: 0.1490 - val_accuracy: 0.9430\n",
      "Epoch 72/100\n",
      "8000/8000 [==============================] - 2s 206us/step - loss: 0.1428 - accuracy: 0.9451 - val_loss: 0.1428 - val_accuracy: 0.9390\n",
      "Epoch 73/100\n",
      "8000/8000 [==============================] - 2s 236us/step - loss: 0.1428 - accuracy: 0.9466 - val_loss: 0.1434 - val_accuracy: 0.9410\n",
      "Epoch 74/100\n",
      "8000/8000 [==============================] - 2s 245us/step - loss: 0.1419 - accuracy: 0.9467 - val_loss: 0.1441 - val_accuracy: 0.9415\n",
      "Epoch 75/100\n",
      "8000/8000 [==============================] - 2s 225us/step - loss: 0.1420 - accuracy: 0.9451 - val_loss: 0.1504 - val_accuracy: 0.9370\n",
      "Epoch 76/100\n",
      "8000/8000 [==============================] - 2s 215us/step - loss: 0.1406 - accuracy: 0.9482 - val_loss: 0.1470 - val_accuracy: 0.9420\n",
      "Epoch 77/100\n",
      "8000/8000 [==============================] - 2s 247us/step - loss: 0.1412 - accuracy: 0.9441 - val_loss: 0.1492 - val_accuracy: 0.9420\n",
      "Epoch 78/100\n",
      "8000/8000 [==============================] - 2s 231us/step - loss: 0.1422 - accuracy: 0.9454 - val_loss: 0.1449 - val_accuracy: 0.9355\n",
      "Epoch 79/100\n",
      "8000/8000 [==============================] - 2s 221us/step - loss: 0.1401 - accuracy: 0.9470 - val_loss: 0.1446 - val_accuracy: 0.9430\n",
      "Epoch 80/100\n",
      "8000/8000 [==============================] - 2s 218us/step - loss: 0.1404 - accuracy: 0.9471 - val_loss: 0.1429 - val_accuracy: 0.9425\n",
      "Epoch 81/100\n",
      "8000/8000 [==============================] - 2s 239us/step - loss: 0.1409 - accuracy: 0.9467 - val_loss: 0.1433 - val_accuracy: 0.9385\n",
      "Epoch 82/100\n",
      "8000/8000 [==============================] - 2s 232us/step - loss: 0.1404 - accuracy: 0.9467 - val_loss: 0.1428 - val_accuracy: 0.9395\n",
      "Epoch 83/100\n",
      "8000/8000 [==============================] - 2s 223us/step - loss: 0.1406 - accuracy: 0.9456 - val_loss: 0.1431 - val_accuracy: 0.9415\n",
      "Epoch 84/100\n",
      "8000/8000 [==============================] - 2s 228us/step - loss: 0.1400 - accuracy: 0.9460 - val_loss: 0.1476 - val_accuracy: 0.9400\n",
      "Epoch 85/100\n",
      "8000/8000 [==============================] - 2s 234us/step - loss: 0.1399 - accuracy: 0.9475 - val_loss: 0.1473 - val_accuracy: 0.9430\n",
      "Epoch 86/100\n",
      "8000/8000 [==============================] - 2s 244us/step - loss: 0.1395 - accuracy: 0.9484 - val_loss: 0.1533 - val_accuracy: 0.9395\n",
      "Epoch 87/100\n",
      "8000/8000 [==============================] - 2s 237us/step - loss: 0.1399 - accuracy: 0.9461 - val_loss: 0.1450 - val_accuracy: 0.9385\n",
      "Epoch 88/100\n",
      "8000/8000 [==============================] - 2s 219us/step - loss: 0.1392 - accuracy: 0.9469 - val_loss: 0.1443 - val_accuracy: 0.9425\n",
      "Epoch 89/100\n",
      "8000/8000 [==============================] - 2s 238us/step - loss: 0.1400 - accuracy: 0.9466 - val_loss: 0.1422 - val_accuracy: 0.9420\n",
      "Epoch 90/100\n",
      "8000/8000 [==============================] - 2s 203us/step - loss: 0.1395 - accuracy: 0.9452 - val_loss: 0.1423 - val_accuracy: 0.9385\n",
      "Epoch 91/100\n",
      "8000/8000 [==============================] - 2s 217us/step - loss: 0.1392 - accuracy: 0.9456 - val_loss: 0.1440 - val_accuracy: 0.9415\n",
      "Epoch 92/100\n",
      "8000/8000 [==============================] - 2s 220us/step - loss: 0.1387 - accuracy: 0.9463 - val_loss: 0.1434 - val_accuracy: 0.9430\n",
      "Epoch 93/100\n",
      "8000/8000 [==============================] - 2s 217us/step - loss: 0.1383 - accuracy: 0.9480 - val_loss: 0.1441 - val_accuracy: 0.9430\n",
      "Epoch 94/100\n",
      "8000/8000 [==============================] - 2s 207us/step - loss: 0.1387 - accuracy: 0.9467 - val_loss: 0.1434 - val_accuracy: 0.9405\n",
      "Epoch 95/100\n",
      "8000/8000 [==============================] - 2s 227us/step - loss: 0.1389 - accuracy: 0.9457 - val_loss: 0.1464 - val_accuracy: 0.9400\n",
      "Epoch 96/100\n",
      "8000/8000 [==============================] - 2s 227us/step - loss: 0.1372 - accuracy: 0.9469 - val_loss: 0.1488 - val_accuracy: 0.9405\n",
      "Epoch 97/100\n",
      "8000/8000 [==============================] - 2s 220us/step - loss: 0.1397 - accuracy: 0.9481 - val_loss: 0.1457 - val_accuracy: 0.9385\n",
      "Epoch 98/100\n",
      "8000/8000 [==============================] - 2s 258us/step - loss: 0.1381 - accuracy: 0.9473 - val_loss: 0.1495 - val_accuracy: 0.9405\n",
      "Epoch 99/100\n",
      "8000/8000 [==============================] - 2s 217us/step - loss: 0.1377 - accuracy: 0.9484 - val_loss: 0.1503 - val_accuracy: 0.9385\n",
      "Epoch 100/100\n",
      "8000/8000 [==============================] - 2s 236us/step - loss: 0.1386 - accuracy: 0.9467 - val_loss: 0.1422 - val_accuracy: 0.9440\n"
     ]
    }
   ],
   "source": [
    "# Train your model for 100 epochs and batch size equal to 5\n",
    "history = model.fit(X, y, epochs=100, batch_size=5, verbose=1, validation_split=0.2, shuffle=False)"
   ]
  },
  {
   "cell_type": "code",
   "execution_count": 8,
   "metadata": {},
   "outputs": [
    {
     "data": {
      "image/png": "[encoded data removed]",
      "text/plain": [
       "<Figure size 432x288 with 1 Axes>"
      ]
     },
     "metadata": {
      "needs_background": "light"
     },
     "output_type": "display_data"
    },
    {
     "data": {
      "image/png": "[encoded data removed]",
      "text/plain": [
       "<Figure size 432x288 with 1 Axes>"
      ]
     },
     "metadata": {
      "needs_background": "light"
     },
     "output_type": "display_data"
    }
   ],
   "source": [
    "import matplotlib.pyplot as plt\n",
    "%matplotlib inline\n",
    "\n",
    "# Plot training & validation accuracy values\n",
    "plt.plot(history.history['accuracy'])\n",
    "plt.plot(history.history['val_accuracy'])\n",
    "plt.title('Model accuracy')\n",
    "plt.ylabel('Accuracy')\n",
    "plt.xlabel('Epoch')\n",
    "plt.legend(['Train', 'Validation'], loc='upper left')\n",
    "plt.show()\n",
    "\n",
    "# Plot training & validation loss values\n",
    "plt.plot(history.history['loss'])\n",
    "plt.plot(history.history['val_loss'])\n",
    "plt.title('Model loss')\n",
    "plt.ylabel('Loss')\n",
    "plt.xlabel('Epoch')\n",
    "plt.legend(['Train', 'Validation'], loc='upper left')\n",
    "plt.show()"
   ]
  },
  {
   "cell_type": "code",
   "execution_count": 10,
   "metadata": {},
   "outputs": [
    {
     "name": "stdout",
     "output_type": "stream",
     "text": [
      "Predicted probability for each of the examples belonging to class 1: \n",
      "[[0.00354007]\n",
      " [0.8302744 ]\n",
      " [0.00316998]\n",
      " [0.95335543]\n",
      " [0.99479216]\n",
      " [0.00334176]\n",
      " [0.43222323]\n",
      " [0.00391936]\n",
      " [0.00332899]\n",
      " [0.99759173]]\n",
      "Predicted class label for each of the examples: \n",
      "[[0.]\n",
      " [1.]\n",
      " [0.]\n",
      " [1.]\n",
      " [1.]\n",
      " [0.]\n",
      " [0.]\n",
      " [0.]\n",
      " [0.]\n",
      " [1.]]\n"
     ]
    }
   ],
   "source": [
    "# Use your trained model to predict the output class for the first 10 input data examples\n",
    "y_predicted = model.predict(X.iloc[0:10,:]) \n",
    "\n",
    "# print the predicted classes\n",
    "print(\"Predicted probability for each of the examples belonging to class 1: \"),\n",
    "print(y_predicted)\n",
    "print(\"Predicted class label for each of the examples: \"), \n",
    "print(np.round(y_predicted))"
   ]
  }
 ],
 "metadata": {
  "kernelspec": {
   "display_name": "py3.7",
   "language": "python",
   "name": "py3.7"
  },
  "language_info": {
   "codemirror_mode": {
    "name": "ipython",
    "version": 3
   },
   "file_extension": ".py",
   "mimetype": "text/x-python",
   "name": "python",
   "nbconvert_exporter": "python",
   "pygments_lexer": "ipython3",
   "version": "3.7.2"
  }
 },
 "nbformat": 4,
 "nbformat_minor": 2
}
